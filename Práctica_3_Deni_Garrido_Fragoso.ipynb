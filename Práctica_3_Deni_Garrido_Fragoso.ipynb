{
  "nbformat": 4,
  "nbformat_minor": 0,
  "metadata": {
    "colab": {
      "provenance": [],
      "authorship_tag": "ABX9TyMFeOj6LcKQEdi2TZVOw5jJ",
      "include_colab_link": true
    },
    "kernelspec": {
      "name": "python3",
      "display_name": "Python 3"
    },
    "language_info": {
      "name": "python"
    }
  },
  "cells": [
    {
      "cell_type": "markdown",
      "metadata": {
        "id": "view-in-github",
        "colab_type": "text"
      },
      "source": [
        "<a href=\"https://colab.research.google.com/github/dgdeni/programacionavanzada/blob/master/Pr%C3%A1ctica_3_Deni_Garrido_Fragoso.ipynb\" target=\"_parent\"><img src=\"https://colab.research.google.com/assets/colab-badge.svg\" alt=\"Open In Colab\"/></a>"
      ]
    },
    {
      "cell_type": "markdown",
      "source": [
        "**Programa 1**"
      ],
      "metadata": {
        "id": "4ytu3_HXZ5YK"
      }
    },
    {
      "cell_type": "code",
      "source": [
        "import math\n",
        "#Creando la clase Vector\n",
        "class Vector:\n",
        "  def __init__(self,x,y):\n",
        "    self.x=x\n",
        "    self.y=y\n",
        "\n",
        "#Método que calcula la magnitud del Vector usando la fórmula r = (x^2 + y^2)^1/2\n",
        "#def magnitud(self):\n",
        " # return(self.x**2 + self.y**2)**0.5\n",
        "\n",
        "  def magnitud(self):\n",
        "    return math.sqrt(self.x**2 +self.y**2)\n",
        "\n",
        "#Método que calcula el ángulo en radianes utilizando la fórmula θ = arctan(y/x)\n",
        "\n",
        "  def ang_rad(self):\n",
        "    return math.atan2(self.y,self.x)\n",
        "\n",
        "#Método que calcula el ángulo en grados\n",
        "\n",
        "  def ang_grados(self):\n",
        "    return math.degrees(self.ang_rad())\n",
        "\n",
        "#Sumando Vectores utilizando la función add\n",
        "\n",
        "  def __add__(self, other):\n",
        "        return Vector(self.x + other.x, self.y + other.y)\n",
        "\n",
        "#Vector en forma (x,y)\n",
        "\n",
        "  def __str__(self):\n",
        "    return f'({self.x,self.y})'"
      ],
      "metadata": {
        "id": "41XINwhTZ3kE"
      },
      "execution_count": 34,
      "outputs": []
    },
    {
      "cell_type": "code",
      "source": [
        "#Validando programa con ejemplo\n",
        "#Primero vector p\n",
        "p = Vector(5, -1)\n",
        "\n",
        "print(f\"p={p}\")\n",
        "print(p.magnitud())\n",
        "print(p.ang_rad())\n",
        "print(p.ang_grados())"
      ],
      "metadata": {
        "colab": {
          "base_uri": "https://localhost:8080/"
        },
        "id": "fL7ZCJfFrmVW",
        "outputId": "764ec503-6c5e-4ac3-da8b-b577fc767d83"
      },
      "execution_count": 35,
      "outputs": [
        {
          "output_type": "stream",
          "name": "stdout",
          "text": [
            "p=((5, -1))\n",
            "5.0990195135927845\n",
            "-0.19739555984988075\n",
            "-11.309932474020213\n"
          ]
        }
      ]
    },
    {
      "cell_type": "code",
      "source": [
        "#Ahora vector q\n",
        "q = Vector(2,-4)\n",
        "\n",
        "print(f\"q={q}\")\n",
        "print(q.magnitud())\n",
        "print(q.ang_rad())\n",
        "print(q.ang_grados())"
      ],
      "metadata": {
        "colab": {
          "base_uri": "https://localhost:8080/"
        },
        "id": "W2ejD3PqQdY2",
        "outputId": "8659375d-a373-4dac-c74e-254a7587732a"
      },
      "execution_count": 36,
      "outputs": [
        {
          "output_type": "stream",
          "name": "stdout",
          "text": [
            "q=((2, -4))\n",
            "4.47213595499958\n",
            "-1.1071487177940904\n",
            "-63.43494882292201\n"
          ]
        }
      ]
    },
    {
      "cell_type": "code",
      "source": [
        "#Suma de ambos vectores\n",
        "print(p+q)"
      ],
      "metadata": {
        "colab": {
          "base_uri": "https://localhost:8080/"
        },
        "id": "JhCPEHPaWWJM",
        "outputId": "7c50f9f3-c9fa-4577-bc37-2f76a14a72f4"
      },
      "execution_count": 37,
      "outputs": [
        {
          "output_type": "stream",
          "name": "stdout",
          "text": [
            "((7, -5))\n"
          ]
        }
      ]
    },
    {
      "cell_type": "markdown",
      "source": [
        "**Programa 2**"
      ],
      "metadata": {
        "id": "VeWrYff3YA4e"
      }
    },
    {
      "cell_type": "code",
      "source": [
        "#Definiendo la clase persona con los atributos nombre, edad y propiedad que muestre la información de la persona\n",
        "from datetime import datetime, date\n",
        "\n",
        "class Persona:\n",
        "  def __init__(self, nombre, edad):\n",
        "    self.nombre = nombre\n",
        "    self.edad = edad\n",
        "\n",
        "  def info(self):\n",
        "        print(f'Nombre: {self.nombre} , Edad: {self.edad}')\n",
        "\n",
        "#Creando clase Huesped que se construye a partir de la clase Persona, heredando sus propiedades y métodos\n",
        "#Agregando propiedades adicionales de la clase Huesped\n",
        "\n",
        "class Huesped(Persona):\n",
        "  def __init__(self, nombre, edad, habitacion, rfc, numero_cuenta, fecha_ingreso, hospedado_actualmente, servicio_habitacion):\n",
        "    super().__init__(nombre,edad)\n",
        "    self.habitacion = habitacion\n",
        "    self.rfc = rfc\n",
        "    self.numero_cuenta = numero_cuenta\n",
        "    self.fecha_ingreso = fecha_ingreso\n",
        "    self.hospedado_actualmente = hospedado_actualmente\n",
        "    self.servicio_habitacion = servicio_habitacion\n",
        "\n",
        "#Métodos clase Huesped\n",
        "#1. Información básica del huesped\n",
        "  def mostrar_info(self):\n",
        "    self.info()  # Nombre y edad son heredadas de la clase Persona\n",
        "    print (\n",
        "            f\"Habitación: {self.habitacion}\\n\"\n",
        "            f\"RFC: {self.rfc}\\n\"\n",
        "            f\"Número de cuenta: {self.numero_cuenta}\\n\"\n",
        "            f\"Fecha de ingreso: {self.fecha_ingreso}\\n\"\n",
        "            f\"Hospedado actualmente: {self.hospedado_actualmente}\\n\"\n",
        "            f\"Servicios a la habitación: {self.servicio_habitacion}\"\n",
        "        )\n",
        "\n",
        "#2. Saldo hasta el día de hoy\n",
        "#Costo de la renta de la habitación * por los días que lleva hospedado + gastos servicio a la habitación\n",
        "  def saldo(self,costo_noche):\n",
        "    fecha_ingreso = datetime.strptime(self.fecha_ingreso, \"%Y-%m-%d\").date()\n",
        "    hoy = date.today()\n",
        "    dias_hospedado = (hoy - fecha_ingreso).days\n",
        "    if dias_hospedado < 0:\n",
        "      dias_hospedado = 0\n",
        "    renta = dias_hospedado * costo_noche\n",
        "    consumo = sum(self.servicio_habitacion.values())\n",
        "    saldo = renta + consumo\n",
        "    return saldo"
      ],
      "metadata": {
        "id": "sed55Os2ZpdJ"
      },
      "execution_count": 2,
      "outputs": []
    },
    {
      "cell_type": "code",
      "source": [
        "Notas: print y return son diferententes. Print es una funcion que te muestra en la pantalla lo que tu le pides, pero NO TE REGRESA NADA"
      ],
      "metadata": {
        "id": "_omm35xRLquR"
      },
      "execution_count": null,
      "outputs": []
    },
    {
      "cell_type": "code",
      "source": [
        "test = Persona(\"Deni\",29)\n",
        "test.info()"
      ],
      "metadata": {
        "colab": {
          "base_uri": "https://localhost:8080/"
        },
        "id": "KesHyTpglIOU",
        "outputId": "126e9208-3644-4164-abc5-96d81467015b"
      },
      "execution_count": 37,
      "outputs": [
        {
          "output_type": "stream",
          "name": "stdout",
          "text": [
            "Nombre: Deni , Edad: 29\n"
          ]
        }
      ]
    },
    {
      "cell_type": "code",
      "source": [
        "#Ejemplo de validación\n",
        "servicios = {\n",
        "    \"Desayuno\": 350,\n",
        "    \"Comida\": 450,\n",
        "    \"Cena\":400\n",
        "}\n",
        "\n",
        "huesped_1 = Huesped(\n",
        "    nombre=\"Deni\",\n",
        "    edad=29,\n",
        "    habitacion=126,\n",
        "    rfc=\"DGF00112513\",\n",
        "    numero_cuenta=1234590,\n",
        "    fecha_ingreso=\"2025-05-18\",\n",
        "    hospedado_actualmente=True,\n",
        "    servicio_habitacion=servicios\n",
        ")\n",
        "\n",
        "huesped_1.mostrar_info()\n",
        "huesped_1.saldo(500)"
      ],
      "metadata": {
        "colab": {
          "base_uri": "https://localhost:8080/"
        },
        "id": "hvJ1CtcyluHQ",
        "outputId": "6bb8e85b-71f1-47a5-ad8e-977ecd9bb630"
      },
      "execution_count": 5,
      "outputs": [
        {
          "output_type": "stream",
          "name": "stdout",
          "text": [
            "Nombre: Deni , Edad: 29\n",
            "Habitación: 126\n",
            "RFC: DGF00112513\n",
            "Número de cuenta: 1234590\n",
            "Fecha de ingreso: 2025-05-18\n",
            "Hospedado actualmente: True\n",
            "Servicios a la habitación: {'Desayuno': 350, 'Comida': 450, 'Cena': 400}\n"
          ]
        },
        {
          "output_type": "execute_result",
          "data": {
            "text/plain": [
              "1700"
            ]
          },
          "metadata": {},
          "execution_count": 5
        }
      ]
    }
  ]
}